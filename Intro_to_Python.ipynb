{
  "nbformat": 4,
  "nbformat_minor": 0,
  "metadata": {
    "colab": {
      "name": "Intro to Python.ipynb",
      "provenance": [],
      "authorship_tag": "ABX9TyPRQoAss9gc55zr3CU3Cphu",
      "include_colab_link": true
    },
    "kernelspec": {
      "name": "python3",
      "display_name": "Python 3"
    },
    "language_info": {
      "name": "python"
    }
  },
  "cells": [
    {
      "cell_type": "markdown",
      "metadata": {
        "id": "view-in-github",
        "colab_type": "text"
      },
      "source": [
        "<a href=\"https://colab.research.google.com/github/panie22/Elective_3/blob/main/Intro_to_Python.ipynb\" target=\"_parent\"><img src=\"https://colab.research.google.com/assets/colab-badge.svg\" alt=\"Open In Colab\"/></a>"
      ]
    },
    {
      "cell_type": "markdown",
      "source": [
        "##Python Indention"
      ],
      "metadata": {
        "id": "-fRfqmAu-s9l"
      }
    },
    {
      "cell_type": "code",
      "source": [
        "if 5<2:\n",
        "  print (\"Five is less than two\")\n",
        "else:\n",
        "  print (\"Five is greater than two\")"
      ],
      "metadata": {
        "colab": {
          "base_uri": "https://localhost:8080/"
        },
        "id": "ffgsFzS1-uoG",
        "outputId": "887397f4-838b-46d0-e395-c55fd43f1283"
      },
      "execution_count": null,
      "outputs": [
        {
          "output_type": "stream",
          "name": "stdout",
          "text": [
            "Five is greater than two\n"
          ]
        }
      ]
    },
    {
      "cell_type": "markdown",
      "source": [
        "##Python Comments"
      ],
      "metadata": {
        "id": "jyu8Pe7y-xWd"
      }
    },
    {
      "cell_type": "code",
      "source": [
        "# This is a program that displays Hello, World\n",
        "\n",
        "print(\"Hello, World\")\n",
        "print('Welcome to Python Programming')"
      ],
      "metadata": {
        "colab": {
          "base_uri": "https://localhost:8080/"
        },
        "id": "liHPPUkv-1S7",
        "outputId": "23ce0015-32c0-42cb-930b-fdaebb4cbcbc"
      },
      "execution_count": null,
      "outputs": [
        {
          "output_type": "stream",
          "name": "stdout",
          "text": [
            "Hello, World\n",
            "Welcome to Python Programming\n"
          ]
        }
      ]
    }
  ]
}